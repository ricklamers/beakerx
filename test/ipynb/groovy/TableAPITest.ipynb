{
 "cells": [
  {
   "cell_type": "markdown",
   "metadata": {},
   "source": [
    "# Alignment"
   ]
  },
  {
   "cell_type": "code",
   "execution_count": null,
   "metadata": {},
   "outputs": [],
   "source": [
    "import com.twosigma.beakerx.table.*\n",
    "import com.twosigma.beakerx.fileloader.CSV\n",
    "import com.twosigma.beakerx.table.format.TableDisplayStringFormat\n",
    "\n",
    "// 1 setAlignmentProviderForColumn\n",
    "def colNames = [\"default aligment\", \"right aligment\", \"left aligment\",\"center aligment\"]\n",
    "def row1 = [123, 123, 123, 123]\n",
    "def row2 = [231, 231, 231, 231]\n",
    "def row3 = [312, 312, 312, 312]\n",
    "def table1 = new TableDisplay([row1, row2,row3], colNames, ['string', 'integer', 'integer', 'integer'])\n",
    "table1.setAlignmentProviderForColumn('left aligment', TableDisplayAlignmentProvider.LEFT_ALIGNMENT)\n",
    "table1.setAlignmentProviderForColumn('center aligment', TableDisplayAlignmentProvider.CENTER_ALIGNMENT)\n",
    "table1.setAlignmentProviderForColumn('right aligment', TableDisplayAlignmentProvider.RIGHT_ALIGNMENT)\n",
    "table1"
   ]
  },
  {
   "cell_type": "code",
   "execution_count": null,
   "metadata": {},
   "outputs": [],
   "source": [
    "// expected result of cell 1\n",
    "Image(\"../../resources/img/groovy/tableAPI/cell1_case1.png\")"
   ]
  },
  {
   "cell_type": "code",
   "execution_count": null,
   "metadata": {},
   "outputs": [],
   "source": [
    "// 2 setAlignmentProviderForType\n",
    "def colNames = [\"string column\", \"int column 1\", \"double column\",\"int column 2\"]\n",
    "def row1 = [\"123\", 123, 12.3, 123]\n",
    "def row2 = [\"231\", 231, 23.1, 231]\n",
    "def row3 = [\"312\", 312, 31.2, 312]\n",
    "table2 = new TableDisplay([row1, row2, row3], colNames, ['string', 'integer', 'double', 'integer'])\n",
    "table2.setAlignmentProviderForType(ColumnType.String, TableDisplayAlignmentProvider.CENTER_ALIGNMENT)\n",
    "table2.setAlignmentProviderForType(ColumnType.Double, TableDisplayAlignmentProvider.LEFT_ALIGNMENT)\n",
    "table2"
   ]
  },
  {
   "cell_type": "code",
   "execution_count": null,
   "metadata": {},
   "outputs": [],
   "source": [
    "// expected result of cell 2\n",
    "Image(\"../../resources/img/groovy/tableAPI/cell2_case1.png\")"
   ]
  },
  {
   "cell_type": "markdown",
   "metadata": {},
   "source": [
    "# Bar Charts Renderer"
   ]
  },
  {
   "cell_type": "code",
   "execution_count": null,
   "metadata": {},
   "outputs": [],
   "source": [
    "// 3\n",
    "table3 = new TableDisplay(new CSV().read('../../resources/data/interest-rates-small.csv'))\n",
    "table3.setRendererForType(ColumnType.Double, TableDisplayCellRenderer.getDataBarsRenderer(true))\n",
    "// use the false parameter to hide value\n",
    "table3.setRendererForColumn(\"y10\", TableDisplayCellRenderer.getDataBarsRenderer(false))\n",
    "table3"
   ]
  },
  {
   "cell_type": "code",
   "execution_count": null,
   "metadata": {},
   "outputs": [],
   "source": [
    "// expected result of cell 3\n",
    "Image(\"../../resources/img/groovy/tableAPI/cell3_case1.png\")"
   ]
  },
  {
   "cell_type": "markdown",
   "metadata": {},
   "source": [
    "# Formatting"
   ]
  },
  {
   "cell_type": "code",
   "execution_count": null,
   "metadata": {},
   "outputs": [],
   "source": [
    "// 4\n",
    "table4 = new TableDisplay(new CSV().read('../../resources/data/interest-rates-small.csv'))\n",
    "table4.setStringFormatForTimes(TimeUnit.DAYS)\n",
    "table4.setStringFormatForType(ColumnType.Double, TableDisplayStringFormat.getDecimalFormat(2,3))\n",
    "table4.setStringFormatForColumn(\"m3\", TableDisplayStringFormat.getDecimalFormat(0, 0))\n",
    "table4"
   ]
  },
  {
   "cell_type": "code",
   "execution_count": null,
   "metadata": {},
   "outputs": [],
   "source": [
    "// expected result of cell 4\n",
    "Image(\"../../resources/img/groovy/tableAPI/cell4_case1.png\")"
   ]
  },
  {
   "cell_type": "markdown",
   "metadata": {},
   "source": [
    "# HTML format"
   ]
  },
  {
   "cell_type": "code",
   "execution_count": null,
   "metadata": {},
   "outputs": [],
   "source": [
    "// 5\n",
    "table5 = new TableDisplay([x: '<em style=\"color:red\">italic red</em>',\n",
    "                      y: '<b style=\"color:blue\">bold blue</b>',\n",
    "                      z: 'multiline strings<br/>work fine too']);\n",
    "table5.setStringFormatForColumn(\"Value\", TableDisplayStringFormat.getHTMLFormat())\n",
    "table5"
   ]
  },
  {
   "cell_type": "code",
   "execution_count": null,
   "metadata": {},
   "outputs": [],
   "source": [
    "// expected result of cell 5\n",
    "Image(\"../../resources/img/groovy/tableAPI/cell5_case1.png\")"
   ]
  },
  {
   "cell_type": "markdown",
   "metadata": {},
   "source": [
    "# Column Visibility and Placement"
   ]
  },
  {
   "cell_type": "code",
   "execution_count": null,
   "metadata": {},
   "outputs": [],
   "source": [
    "// 6\n",
    "table6 = new TableDisplay(new CSV().read('../../resources/data/interest-rates-small.csv'))\n",
    "//freeze a column\n",
    "table6.setColumnFrozen(\"y1\", true)\n",
    "//hide a column\n",
    "table6.setColumnVisible(\"y30\", false)\n",
    "table6"
   ]
  },
  {
   "cell_type": "code",
   "execution_count": null,
   "metadata": {},
   "outputs": [],
   "source": [
    "// expected result of cell 6\n",
    "Image(\"../../resources/img/groovy/tableAPI/cell6_case1.png\")"
   ]
  },
  {
   "cell_type": "code",
   "execution_count": null,
   "metadata": {},
   "outputs": [],
   "source": [
    "// 7\n",
    "table7 = new TableDisplay(new CSV().read('../../resources/data/interest-rates-small.csv'))\n",
    "// Columns in the list will be shown in the provided order. Columns not in the list will be hidden.\n",
    "table7.setColumnOrder([\"m3\", \"y1\", \"y10\", \"time\", \"y2\"])\n",
    "table7"
   ]
  },
  {
   "cell_type": "code",
   "execution_count": null,
   "metadata": {},
   "outputs": [],
   "source": [
    "// expected result of cell 7\n",
    "Image(\"../../resources/img/groovy/tableAPI/cell7_case1.png\")"
   ]
  },
  {
   "cell_type": "markdown",
   "metadata": {},
   "source": [
    "# HeatmapHighlighter"
   ]
  },
  {
   "cell_type": "code",
   "execution_count": null,
   "metadata": {},
   "outputs": [],
   "source": [
    "// 8 highlighter for row\n",
    "table8 = new TableDisplay(new CSV().read('../../resources/data/interest-rates-small.csv'))\n",
    "table8.addCellHighlighter(TableDisplayCellHighlighter.getHeatmapHighlighter(\"m3\", TableDisplayCellHighlighter.FULL_ROW))\n",
    "table8"
   ]
  },
  {
   "cell_type": "code",
   "execution_count": null,
   "metadata": {},
   "outputs": [],
   "source": [
    "// expected result of cell 8\n",
    "Image(\"../../resources/img/groovy/tableAPI/cell8_case1.png\")"
   ]
  },
  {
   "cell_type": "code",
   "execution_count": null,
   "metadata": {},
   "outputs": [],
   "source": [
    "// 9 highlighter for column\n",
    "table9 = new TableDisplay(new CSV().read(\"../../resources/data/interest-rates-small.csv\"))\n",
    "table9.addCellHighlighter(TableDisplayCellHighlighter.getHeatmapHighlighter(\"m6\", TableDisplayCellHighlighter.SINGLE_COLUMN, 6, 8, Color.BLACK, Color.PINK))\n",
    "table9.addCellHighlighter(new ThreeColorHeatmapHighlighter(\"y1\", TableDisplayCellHighlighter.SINGLE_COLUMN, 4, 6, 8, new Color(247,106,106), new Color(239,218,82), new Color(100,189,122)))\n",
    "table9"
   ]
  },
  {
   "cell_type": "code",
   "execution_count": null,
   "metadata": {},
   "outputs": [],
   "source": [
    "// expected result of cell 9\n",
    "Image(\"../../resources/img/groovy/tableAPI/cell9_case1.png\")"
   ]
  },
  {
   "cell_type": "code",
   "execution_count": null,
   "metadata": {},
   "outputs": [],
   "source": [
    "// 9_2\n",
    "table9.removeAllCellHighlighters()\n",
    "table9"
   ]
  },
  {
   "cell_type": "code",
   "execution_count": null,
   "metadata": {},
   "outputs": [],
   "source": [
    "// expected result of cell 9_2\n",
    "Image(\"../../resources/img/groovy/tableAPI/cell9_case2.png\")"
   ]
  },
  {
   "cell_type": "code",
   "execution_count": null,
   "metadata": {},
   "outputs": [],
   "source": [
    "// 9_3 set HeatmapHighlighter for type\n",
    "def colNames = [\"xxx column\", \"integer column\", \"double column\", \"number column\"]\n",
    "def row1 = [6, 6, 0.5, 6]\n",
    "def row2 = [3, 3, 2.0, 3]\n",
    "def row3 = [2, 2, 3.0, 2]\n",
    "def row4 = [0, 0, 6.0, 0]\n",
    "table93 = new TableDisplay([row1, row2, row3, row4], colNames, ['xxx type', 'integer', 'double', 'number'])\n",
    "table93.addCellHighlighter(TableDisplayCellHighlighter.getHeatmapHighlighter(colNames[0], TableDisplayCellHighlighter.SINGLE_COLUMN))\n",
    "table93.addCellHighlighter(TableDisplayCellHighlighter.getHeatmapHighlighter(colNames[1], TableDisplayCellHighlighter.SINGLE_COLUMN))\n",
    "table93.addCellHighlighter(TableDisplayCellHighlighter.getHeatmapHighlighter(colNames[2], TableDisplayCellHighlighter.SINGLE_COLUMN))\n",
    "table93.addCellHighlighter(TableDisplayCellHighlighter.getHeatmapHighlighter(colNames[3], TableDisplayCellHighlighter.SINGLE_COLUMN))\n",
    "table93"
   ]
  },
  {
   "cell_type": "code",
   "execution_count": null,
   "metadata": {},
   "outputs": [],
   "source": [
    "// expected result of cell 9_3\n",
    "Image(\"../../resources/img/groovy/tableAPI/cell9_case3.png\")"
   ]
  },
  {
   "cell_type": "markdown",
   "metadata": {},
   "source": [
    "# UniqueEntriesHighlighter"
   ]
  },
  {
   "cell_type": "code",
   "execution_count": null,
   "metadata": {},
   "outputs": [],
   "source": [
    "// 10\n",
    "table10 = new TableDisplay(new CSV().read('../../resources/data/interest-rates-small.csv'))\n",
    "table10.addCellHighlighter(TableDisplayCellHighlighter.getUniqueEntriesHighlighter(\"m3\"))\n",
    "table10"
   ]
  },
  {
   "cell_type": "code",
   "execution_count": null,
   "metadata": {},
   "outputs": [],
   "source": [
    "// expected result of cell 10\n",
    "Image(\"../../resources/img/groovy/tableAPI/cell10_case1.png\")"
   ]
  },
  {
   "cell_type": "code",
   "execution_count": null,
   "metadata": {},
   "outputs": [],
   "source": [
    "// 11\n",
    "table11 = new TableDisplay(new CSV().read('../../resources/data/interest-rates-small.csv'))\n",
    "table11.addCellHighlighter(TableDisplayCellHighlighter.getUniqueEntriesHighlighter(\"y30\", TableDisplayCellHighlighter.SINGLE_COLUMN))\n",
    "table11.addCellHighlighter(TableDisplayCellHighlighter.getUniqueEntriesHighlighter(\"m6\", TableDisplayCellHighlighter.SINGLE_COLUMN))\n",
    "table11"
   ]
  },
  {
   "cell_type": "code",
   "execution_count": null,
   "metadata": {},
   "outputs": [],
   "source": [
    "// expected result of cell 11\n",
    "Image(\"../../resources/img/groovy/tableAPI/cell11_case1.png\")"
   ]
  },
  {
   "cell_type": "markdown",
   "metadata": {},
   "source": [
    "# FontSize"
   ]
  },
  {
   "cell_type": "code",
   "execution_count": null,
   "metadata": {},
   "outputs": [],
   "source": [
    "// 12\n",
    "table12 = new TableDisplay(new CSV().read('../../resources/data/interest-rates-small.csv'))\n",
    "table12.setDataFontSize(10)\n",
    "table12.setHeaderFontSize(16)\n",
    "table12"
   ]
  },
  {
   "cell_type": "code",
   "execution_count": null,
   "metadata": {},
   "outputs": [],
   "source": [
    "// expected result of cell 12\n",
    "Image(\"../../resources/img/groovy/tableAPI/cell12_case1.png\")"
   ]
  },
  {
   "cell_type": "code",
   "execution_count": null,
   "metadata": {},
   "outputs": [],
   "source": [
    "// 13\n",
    "table13 = new TableDisplay(new CSV().read('../../resources/data/interest-rates-small.csv'))\n",
    "table13.setHeadersVertical(true)\n",
    "table13"
   ]
  },
  {
   "cell_type": "code",
   "execution_count": null,
   "metadata": {},
   "outputs": [],
   "source": [
    "// expected result of cell 13\n",
    "Image(\"../../resources/img/groovy/tableAPI/cell13_case1.png\")"
   ]
  },
  {
   "cell_type": "markdown",
   "metadata": {},
   "source": [
    "# ColorProvider"
   ]
  },
  {
   "cell_type": "code",
   "execution_count": null,
   "metadata": {},
   "outputs": [],
   "source": [
    "// 14\n",
    "def mapListColorProvider = [\n",
    " [firstCol:1, secondCol:2, thirdCol:3],\n",
    " [firstCol:4, secondCol:5, thirdCol:6],\n",
    " [firstCol:9, secondCol:8, thirdCol:9]\n",
    "]\n",
    "table14 = new TableDisplay(mapListColorProvider)\n",
    "\n",
    "colors = [\n",
    "    [Color.LIGHT_GRAY, Color.GRAY, Color.RED],\n",
    "    [Color.DARK_GREEN, Color.ORANGE, Color.RED],\n",
    "    [Color.MAGENTA, Color.BLUE, Color.BLACK]\n",
    "]\n",
    "\n",
    "table14.setFontColorProvider { row, col, td ->\n",
    " colors[row][col]\n",
    "}\n",
    "table14"
   ]
  },
  {
   "cell_type": "code",
   "execution_count": null,
   "metadata": {},
   "outputs": [],
   "source": [
    "// expected result of cell 14\n",
    "Image(\"../../resources/img/groovy/tableAPI/cell14_case1.png\")"
   ]
  },
  {
   "cell_type": "markdown",
   "metadata": {},
   "source": [
    "# ToolTip"
   ]
  },
  {
   "cell_type": "code",
   "execution_count": null,
   "metadata": {},
   "outputs": [],
   "source": [
    "table15 = new TableDisplay(new CSV().read('../../resources/data/interest-rates-small.csv'))\n",
    "\n",
    "table15.setToolTip { row, col, display ->\n",
    " \"The value is: \" + display.values[row][col]\n",
    "}\n",
    "table15"
   ]
  },
  {
   "cell_type": "markdown",
   "metadata": {},
   "source": [
    "## The length of types should be same as number of rows."
   ]
  },
  {
   "cell_type": "code",
   "execution_count": null,
   "metadata": {},
   "outputs": [],
   "source": [
    "// set HeatmapHighlighter for type\n",
    "def colNames = [\"column 1\", \"column 2\", \"column 3\"]\n",
    "def row1 = [6, 6, 0.5]\n",
    "def row2 = [3, 3, 2.0]\n",
    "table94 = new TableDisplay([row1, row2], colNames, ['integer', 'double' ])\n",
    "table94"
   ]
  },
  {
   "cell_type": "markdown",
   "metadata": {},
   "source": [
    "# Image format"
   ]
  },
  {
   "cell_type": "code",
   "execution_count": null,
   "metadata": {},
   "outputs": [],
   "source": [
    "table16 = new TableDisplay([['Peacock': '../../resources/img/butterfly1.jpg',\n",
    "                        'Morpho': '../../resources/img/butterfly2.jpg',\n",
    "                        'Swallowtail': '../../resources/img/butterfly3.jpg']]);\n",
    "table16.setStringFormatForColumn('Peacock', TableDisplayStringFormat.getImageFormat());\n",
    "table16.setStringFormatForColumn('Morpho', TableDisplayStringFormat.getImageFormat());\n",
    "table16"
   ]
  },
  {
   "cell_type": "code",
   "execution_count": null,
   "metadata": {},
   "outputs": [],
   "source": [
    "// expected result of cell 16\n",
    "Image(\"../../resources/img/groovy/tableAPI/cell16_case1.png\")"
   ]
  },
  {
   "cell_type": "code",
   "execution_count": null,
   "metadata": {},
   "outputs": [],
   "source": [
    "table18 = new TableDisplay(['up': 'data:image/svg+xml;base64,PD94bWwgdmVyc2lvbj0iMS4wIiBlbmNvZGluZz0idXRmLTgiPz4NCjwhRE9DVFlQRSBzdmcgUFVCTElDICItLy9XM0MvL0RURCBTVkcgMS4xLy9FTiIgImh0dHA6Ly93d3cudzMub3JnL0dyYXBoaWNzL1NWRy8xLjEvRFREL3N2ZzExLmR0ZCI+DQo8c3ZnIHZlcnNpb249IjEuMSIgeG1sbnM9Imh0dHA6Ly93d3cudzMub3JnLzIwMDAvc3ZnIiB4bWxuczp4bGluaz0iaHR0cDovL3d3dy53My5vcmcvMTk5OS94bGluayIgaGVpZ2h0PSI2NCIgd2lkdGg9IjY0IiB2aWV3Qm94PSIwIDAgNjQgNjQiPg0KICA8cG9seWdvbiBmaWxsPSIjNmJhMmM3IiBwb2ludHM9IjMwLDQgNCw2MCA2MCw2MCI+PC9wb2x5Z29uPg0KPC9zdmc+DQo=',\n",
    "                        'down': 'data:image/svg+xml;base64,PD94bWwgdmVyc2lvbj0iMS4wIiBlbmNvZGluZz0idXRmLTgiPz4KPCFET0NUWVBFIHN2ZyBQVUJMSUMgIi0vL1czQy8vRFREIFNWRyAxLjEvL0VOIiAiaHR0cDovL3d3dy53My5vcmcvR3JhcGhpY3MvU1ZHLzEuMS9EVEQvc3ZnMTEuZHRkIj4KPHN2ZyB2ZXJzaW9uPSIxLjEiIHhtbG5zPSJodHRwOi8vd3d3LnczLm9yZy8yMDAwL3N2ZyIgeG1sbnM6eGxpbms9Imh0dHA6Ly93d3cudzMub3JnLzE5OTkveGxpbmsiIGhlaWdodD0iNjQiIHdpZHRoPSI2NCIgdmlld0JveD0iMCAwIDY0IDY0Ij4KICA8cG9seWdvbiBmaWxsPSIjNmJhMmM3IiBwb2ludHM9IjMwLDYwIDYwLDQgNCw0Ij48L3BvbHlnb24+Cjwvc3ZnPgo=']);\n",
    "table18.setStringFormatForColumn(\"Value\", TableDisplayStringFormat.getImageFormat())\n",
    "table18"
   ]
  },
  {
   "cell_type": "code",
   "execution_count": null,
   "metadata": {},
   "outputs": [],
   "source": [
    "// expected result of cell 18\n",
    "Image(\"../../resources/img/groovy/tableAPI/cell18_case1.png\")"
   ]
  },
  {
   "cell_type": "markdown",
   "metadata": {},
   "source": [
    "# Seamless Update"
   ]
  },
  {
   "cell_type": "code",
   "execution_count": null,
   "metadata": {},
   "outputs": [],
   "source": [
    "def mapListToUpdate = [\n",
    "   [a:1, b:2, c:3],\n",
    "   [a:4, b:5, c:6],\n",
    "   [a:7, b:8, c:9]\n",
    "]\n",
    "table19 = new TableDisplay(mapListToUpdate)\n",
    "table19"
   ]
  },
  {
   "cell_type": "code",
   "execution_count": null,
   "metadata": {},
   "outputs": [],
   "source": [
    "table19.values[0][0] = 99\n",
    "table19.sendModel()"
   ]
  },
  {
   "cell_type": "code",
   "execution_count": null,
   "metadata": {},
   "outputs": [],
   "source": [
    "// expected result of cell 19\n",
    "Image(\"../../resources/img/groovy/tableAPI/cell19_case1.png\")"
   ]
  },
  {
   "cell_type": "code",
   "execution_count": null,
   "metadata": {},
   "outputs": [],
   "source": [
    "// expected result of cell 19 after sendModel()\n",
    "Image(\"../../resources/img/groovy/tableAPI/cell19_case2.png\")"
   ]
  },
  {
   "cell_type": "markdown",
   "metadata": {},
   "source": [
    "# RowFilter"
   ]
  },
  {
   "cell_type": "code",
   "execution_count": null,
   "metadata": {},
   "outputs": [],
   "source": [
    "def mapList20 = [\n",
    " [firstCol:1, secondCol:2, thirdCol:3],\n",
    " [firstCol:4, secondCol:8, thirdCol:6],\n",
    " [firstCol:9, secondCol:8, thirdCol:9]\n",
    "]\n",
    "table20 = new TableDisplay(mapList20)\n",
    "table20.setRowFilter { row, model ->\n",
    " model[row][1] == 8\n",
    "}\n",
    "table20"
   ]
  },
  {
   "cell_type": "code",
   "execution_count": null,
   "metadata": {},
   "outputs": [],
   "source": [
    "// expected result of cell 20\n",
    "Image(\"../../resources/img/groovy/tableAPI/cell20_case1.png\")"
   ]
  },
  {
   "cell_type": "code",
   "execution_count": null,
   "metadata": {},
   "outputs": [],
   "source": []
  }
 ],
 "metadata": {
  "kernelspec": {
   "display_name": "Groovy",
   "language": "groovy",
   "name": "groovy"
  },
  "language_info": {
   "codemirror_mode": "groovy",
   "file_extension": ".groovy",
   "mimetype": "",
   "name": "Groovy",
   "nbconverter_exporter": "",
   "version": "2.5.6"
  },
  "toc": {
   "base_numbering": 1,
   "nav_menu": {},
   "number_sections": false,
   "sideBar": false,
   "skip_h1_title": false,
   "title_cell": "Table of Contents",
   "title_sidebar": "Contents",
   "toc_cell": false,
   "toc_position": {},
   "toc_section_display": false,
   "toc_window_display": false
  }
 },
 "nbformat": 4,
 "nbformat_minor": 4
}
